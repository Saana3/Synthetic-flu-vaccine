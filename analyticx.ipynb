{
 "cells": [
  {
   "cell_type": "code",
   "execution_count": 1,
   "id": "9e9ee8c7-7bbb-4002-811c-d1e196eb7998",
   "metadata": {},
   "outputs": [],
   "source": [
    "import pandas as pd\n",
    "import numpy as np"
   ]
  },
  {
   "cell_type": "code",
   "execution_count": 2,
   "id": "9a5b6b25-edb9-4474-8463-90285ff8170a",
   "metadata": {},
   "outputs": [],
   "source": [
    "# Set random seed for reproducibility\n",
    "np.random.seed(42)"
   ]
  },
  {
   "cell_type": "code",
   "execution_count": 3,
   "id": "a251ccb5-bdb6-4812-999a-4c1c03f63168",
   "metadata": {},
   "outputs": [],
   "source": [
    "# Number of respondents\n",
    "n_respondents = 1000"
   ]
  },
  {
   "cell_type": "code",
   "execution_count": 4,
   "id": "6602e913-d58a-4cff-acd3-500a10b45fb0",
   "metadata": {},
   "outputs": [],
   "source": [
    "# Generate unique respondent IDs\n",
    "respondent_ids = np.arange(1, n_respondents + 1)"
   ]
  },
  {
   "cell_type": "code",
   "execution_count": 5,
   "id": "f5f39581-247d-440c-84c7-fce729bfc63c",
   "metadata": {},
   "outputs": [],
   "source": [
    "# Generate synthetic data for each feature\n",
    "data = {\n",
    "    'respondent_id': respondent_ids,\n",
    "    'h1n1_concern': np.random.randint(0, 4, size=n_respondents),  # 0-3\n",
    "    'h1n1_knowledge': np.random.randint(0, 3, size=n_respondents),  # 0-2\n",
    "    'behavioral_antiviral_meds': np.random.randint(0, 2, size=n_respondents),  # 0-1\n",
    "    'behavioral_avoidance': np.random.randint(0, 2, size=n_respondents),  # 0-1\n",
    "    'behavioral_face_mask': np.random.randint(0, 2, size=n_respondents),  # 0-1\n",
    "    'behavioral_wash_hands': np.random.randint(0, 2, size=n_respondents),  # 0-1\n",
    "    'behavioral_large_gatherings': np.random.randint(0, 2, size=n_respondents),  # 0-1\n",
    "    'behavioral_outside_home': np.random.randint(0, 2, size=n_respondents),  # 0-1\n",
    "    'behavioral_touch_face': np.random.randint(0, 2, size=n_respondents),  # 0-1\n",
    "    'doctor_recc_h1n1': np.random.randint(0, 2, size=n_respondents),  # 0-1\n",
    "    'doctor_recc_seasonal': np.random.randint(0, 2, size=n_respondents),  # 0-1\n",
    "    'chronic_med_condition': np.random.randint(0, 2, size=n_respondents),  # 0-1\n",
    "    'child_under_6_months': np.random.randint(0, 2, size=n_respondents),  # 0-1\n",
    "    'health_worker': np.random.randint(0, 2, size=n_respondents),  # 0-1\n",
    "    'health_insurance': np.random.randint(0, 2, size=n_respondents),  # 0-1\n",
    "    'opinion_h1n1_vacc_effective': np.random.randint(1, 6, size=n_respondents),  # 1-5\n",
    "    'opinion_h1n1_risk': np.random.randint(1, 6, size=n_respondents),  # 1-5\n",
    "    'opinion_h1n1_sick_from_vacc': np.random.randint(1, 6, size=n_respondents),  # 1-5\n",
    "    'opinion_seas_vacc_effective': np.random.randint(1, 6, size=n_respondents),  # 1-5\n",
    "    'opinion_seas_risk': np.random.randint(1, 6, size=n_respondents),  # 1-5\n",
    "    'opinion_seas_sick_from_vacc': np.random.randint(1, 6, size=n_respondents),  # 1-5\n",
    "    'age_group': np.random.choice(['18-34', '35-44', '45-54', '55-64', '65+'], size=n_respondents),\n",
    "    'education': np.random.choice(['<12 Years', '12 Years', 'Some College', 'College Graduate'], size=n_respondents),\n",
    "    'race': np.random.choice(['White', 'Black', 'Asian', 'Other'], size=n_respondents),\n",
    "    'sex': np.random.choice(['Male', 'Female'], size=n_respondents),\n",
    "    'income_poverty': np.random.choice(['<= $75,000, Above Poverty', '> $75,000', 'Below Poverty'], size=n_respondents),\n",
    "    'marital_status': np.random.choice(['Married', 'Not Married'], size=n_respondents),\n",
    "    'rent_or_own': np.random.choice(['Rent', 'Own'], size=n_respondents),\n",
    "    'employment_status': np.random.choice(['Employed', 'Not in Labor Force', 'Unemployed'], size=n_respondents),\n",
    "    'hhs_geo_region': np.random.choice(['Region 1', 'Region 2', 'Region 3', 'Region 4', 'Region 5', 'Region 6', 'Region 7', 'Region 8', 'Region 9', 'Region 10'], size=n_respondents),\n",
    "    'census_msa': np.random.choice(['MSA', 'Non-MSA'], size=n_respondents),\n",
    "    'household_adults': np.random.randint(0, 4, size=n_respondents),  # 0-3\n",
    "    'household_children': np.random.randint(0, 4, size=n_respondents),  # 0-3\n",
    "    'employment_industry': np.random.choice(['Industry A', 'Industry B', 'Industry C', 'Industry D'], size=n_respondents),\n",
    "    'employment_occupation': np.random.choice(['Occupation A', 'Occupation B', 'Occupation C', 'Occupation D'], size=n_respondents),\n",
    "    'h1n1_vaccine': np.random.randint(0, 2, size=n_respondents),  # 0-1\n",
    "    'seasonal_vaccine': np.random.randint(0, 2, size=n_respondents)  # 0-1\n",
    "}"
   ]
  },
  {
   "cell_type": "code",
   "execution_count": 6,
   "id": "3e69bada-fa3b-4a69-97bf-7498670d596e",
   "metadata": {},
   "outputs": [],
   "source": [
    "# Create a DataFrame\n",
    "df = pd.DataFrame(data)"
   ]
  },
  {
   "cell_type": "code",
   "execution_count": 7,
   "id": "e0339e52-69d7-44c6-ae95-a8bd2462e2d0",
   "metadata": {},
   "outputs": [],
   "source": [
    "# Save the DataFrame to a CSV file\n",
    "df.to_csv('synthetic_flu_vaccine_data.csv', index=False)"
   ]
  },
  {
   "cell_type": "code",
   "execution_count": 8,
   "id": "c69a0e6f-56e4-412d-8a3a-1e8818947f19",
   "metadata": {},
   "outputs": [
    {
     "name": "stdout",
     "output_type": "stream",
     "text": [
      "Synthetic dataset created and saved to 'synthetic_flu_vaccine_data.csv'\n"
     ]
    }
   ],
   "source": [
    "print(\"Synthetic dataset created and saved to 'synthetic_flu_vaccine_data.csv'\")"
   ]
  }
 ],
 "metadata": {
  "kernelspec": {
   "display_name": "Python 3 (ipykernel)",
   "language": "python",
   "name": "python3"
  },
  "language_info": {
   "codemirror_mode": {
    "name": "ipython",
    "version": 3
   },
   "file_extension": ".py",
   "mimetype": "text/x-python",
   "name": "python",
   "nbconvert_exporter": "python",
   "pygments_lexer": "ipython3",
   "version": "3.12.7"
  }
 },
 "nbformat": 4,
 "nbformat_minor": 5
}
